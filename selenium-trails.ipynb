{
 "cells": [
  {
   "cell_type": "code",
   "execution_count": 4,
   "id": "9d525e9f",
   "metadata": {},
   "outputs": [],
   "source": [
    "from selenium import webdriver\n",
    "from selenium.webdriver.common.by import By\n",
    "from selenium.webdriver.chrome.service import Service\n",
    "from selenium.webdriver.support.select import Select\n",
    "import time\n",
    "\n",
    "serv_obj = Service('C:\\Drivers\\chromedriver_win32\\chromedriver.exe')\n",
    "driver=webdriver.Chrome(service=serv_obj)\n",
    "driver.get('https://toponwardticket.com/dummy-ticket/?gad=1&gclid=Cj0KCQjwjryjBhD0ARIsAMLvnF-9JZA8nszQ0hQCZaLdXRRQyeJo3kT9Snton2JYe8dLqv_HSRZsFL0aAgWNEALw_wcB')\n",
    "driver.maximize_window()\n",
    "\n",
    "driver.find_element(By.XPATH,'//*[@id=\"wpcf7-f1711-p1684-o1\"]/form/div[2]/div[1]/div/span/select').click()\n",
    "time.sleep(3)\n",
    "\n",
    "driver.find_element(By.XPATH,'//*[@id=\"wpcf7-f1711-p1684-o1\"]/form/div[2]/div[1]/div/span/select/option[2]').click()\n",
    "time.sleep(3)\n",
    "\n",
    "\n"
   ]
  },
  {
   "cell_type": "code",
   "execution_count": null,
   "id": "0342da64",
   "metadata": {},
   "outputs": [],
   "source": []
  }
 ],
 "metadata": {
  "kernelspec": {
   "display_name": "Python 3 (ipykernel)",
   "language": "python",
   "name": "python3"
  },
  "language_info": {
   "codemirror_mode": {
    "name": "ipython",
    "version": 3
   },
   "file_extension": ".py",
   "mimetype": "text/x-python",
   "name": "python",
   "nbconvert_exporter": "python",
   "pygments_lexer": "ipython3",
   "version": "3.10.9"
  }
 },
 "nbformat": 4,
 "nbformat_minor": 5
}
